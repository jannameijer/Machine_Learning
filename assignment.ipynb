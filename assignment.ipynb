{
 "cells": [
  {
   "attachments": {},
   "cell_type": "markdown",
   "metadata": {
    "colab_type": "text",
    "id": "7SXpaKwwGe5x"
   },
   "source": [
    "# TM10007 Assignment: \n",
    "Janna Meijer, Jasmijn Visser, Lotte Kuiper"
   ]
  },
  {
   "attachments": {},
   "cell_type": "markdown",
   "metadata": {},
   "source": [
    "## Data loading and cleaning\n",
    "Input = raw data\n",
    "Output = X_drop & Y_drop"
   ]
  },
  {
   "cell_type": "code",
   "execution_count": 130,
   "metadata": {},
   "outputs": [],
   "source": [
    "import seaborn as sb\n",
    "import pandas as pd\n",
    "import matplotlib.pyplot as plt\n",
    "import numpy as np\n",
    "from numpy import percentile\n",
    "from worcliver.load_data import load_data\n",
    "from sklearn import linear_model, preprocessing, svm, datasets\n",
    "from sklearn.model_selection import train_test_split, cross_val_score, GridSearchCV, validation_curve, KFold, learning_curve\n",
    "from sklearn.preprocessing import RobustScaler, MinMaxScaler, LabelEncoder\n",
    "from sklearn.feature_selection import SelectFromModel, VarianceThreshold\n",
    "from sklearn.linear_model import LogisticRegression, Lasso \n",
    "from sklearn.neighbors import KNeighborsClassifier\n",
    "from sklearn.ensemble import RandomForestClassifier\n",
    "from sklearn.model_selection import RandomizedSearchCV \n",
    "from sklearn.pipeline import Pipeline\n",
    "from scipy.stats import normaltest\n",
    "from sklearn.decomposition import PCA\n",
    "import statistics\n",
    "from sklearn.metrics import roc_auc_score, roc_curve, recall_score, confusion_matrix, accuracy_score\n",
    "from sklearn.ensemble import GradientBoostingClassifier"
   ]
  },
  {
   "cell_type": "code",
   "execution_count": 131,
   "metadata": {
    "colab": {},
    "colab_type": "code",
    "id": "-NE_fTbKGe5z"
   },
   "outputs": [
    {
     "name": "stdout",
     "output_type": "stream",
     "text": [
      "The number of samples: 186\n",
      "The number of features: 493\n",
      "The number of malignant samples: 94\n",
      "The number of benign samples: 92\n"
     ]
    }
   ],
   "source": [
    "data = load_data()\n",
    "\n",
    "# De label kolom even uit de dataset halen\n",
    "X = data.drop('label', axis=1)   # drop the label category\n",
    "y = data['label']                # Target variable die we proberen te voorspellen met het algoritme\n",
    "\n",
    "# Make a list of feature names\n",
    "feature_names = list(X.columns)\n",
    "\n",
    "n_samples = len(data.index)\n",
    "n_features = len(X.columns)\n",
    "print(f'The number of samples: {n_samples}')\n",
    "print(f'The number of features: {n_features}')\n",
    "\n",
    "n_malignant = len(y[y=='malignant'])\n",
    "n_benign = len(y[y=='benign'])\n",
    "print(f'The number of malignant samples: {n_malignant}')\n",
    "print(f\"The number of benign samples: {n_benign}\")"
   ]
  },
  {
   "attachments": {},
   "cell_type": "markdown",
   "metadata": {},
   "source": [
    "### Deleting incomplete features and patients"
   ]
  },
  {
   "cell_type": "code",
   "execution_count": 132,
   "metadata": {},
   "outputs": [
    {
     "name": "stdout",
     "output_type": "stream",
     "text": [
      "Aantal nullen in de data: 4341\n",
      "Dimensies dataframe na verwijderen unrelevant features (186, 469)\n"
     ]
    }
   ],
   "source": [
    "nullen = X.eq(0.0).sum()\n",
    "alle_nullen = sum(nullen)\n",
    "print(f'Aantal nullen in de data: {alle_nullen}') \n",
    "\n",
    "patient0={}\n",
    "for patients in X.index:\n",
    "    zero_count1 = (X.loc[patients]==0.0).sum()\n",
    "    patient0[patients]=zero_count1\n",
    "\n",
    "#print(f\"Hoeveelheid nullen per patient: {patient0}\")\n",
    "\n",
    "features0={}\n",
    "for features in X.columns:\n",
    "    zero_count2 = (X[features]==0).sum()\n",
    "    features0[features]=zero_count2\n",
    "\n",
    "features0 = {feature: count for feature, count in features0.items() if count!=0} #om alle volledige rijen, met 0 zeros eruit te halen. Vooral voor overzicht voor onszelf. \n",
    "\n",
    "#print(f\"Hoeveelheid nullen per feature: {features0}\")\n",
    "\n",
    "cutoff_feature = 0.7*n_samples\n",
    "#cutoff_sample = 0.9*n_features\n",
    "\n",
    "X_drop = X[:]\n",
    "Y_drop = y[:]\n",
    "\n",
    "for feature, counts in features0.items():\n",
    "    if counts >= cutoff_feature:\n",
    "        X_drop = X_drop.drop(feature, axis=1)\n",
    "\n",
    "# for patient, count in patient0.items():\n",
    "#     if count >= cutoff_sample:\n",
    "#         X_drop = X_drop.drop(patient, axis=0)\n",
    "#         Y_drop = Y_drop.drop(patient, axis=0)\n",
    "            \n",
    "print(f\"Dimensies dataframe na verwijderen unrelevant features {X_drop.shape}\")"
   ]
  },
  {
   "attachments": {},
   "cell_type": "markdown",
   "metadata": {},
   "source": [
    "## Algemene stappen\n",
    "Input = X_drop & Y_drop\n",
    "Output = X_test_normalised, X_train_normalized, Y_train & Y_test"
   ]
  },
  {
   "attachments": {},
   "cell_type": "markdown",
   "metadata": {},
   "source": [
    "### Splitting data into test and trainingset"
   ]
  },
  {
   "cell_type": "code",
   "execution_count": 133,
   "metadata": {},
   "outputs": [
    {
     "name": "stdout",
     "output_type": "stream",
     "text": [
      "Training set dimensies: (148, 469) (148,)\n",
      "Testing set dimensies: (38, 469) (38,)\n"
     ]
    }
   ],
   "source": [
    "# Split the data into training and testing sets\n",
    "X_train, X_test, y_train, y_test = train_test_split(X_drop, Y_drop, test_size=0.2, random_state=42)\n",
    "\n",
    "print(\"Training set dimensies:\", X_train.shape, y_train.shape)\n",
    "print(\"Testing set dimensies:\", X_test.shape, y_test.shape)\n"
   ]
  },
  {
   "attachments": {},
   "cell_type": "markdown",
   "metadata": {},
   "source": [
    "### Outliers\n"
   ]
  },
  {
   "cell_type": "code",
   "execution_count": 134,
   "metadata": {},
   "outputs": [
    {
     "name": "stdout",
     "output_type": "stream",
     "text": [
      "{'PREDICT_original_sf_compactness_avg_2.5D': 8, 'PREDICT_original_sf_compactness_std_2.5D': 15, 'PREDICT_original_sf_rad_dist_avg_2.5D': 3, 'PREDICT_original_sf_rad_dist_std_2.5D': 5, 'PREDICT_original_sf_roughness_avg_2.5D': 2, 'PREDICT_original_sf_roughness_std_2.5D': 10, 'PREDICT_original_sf_convexity_avg_2.5D': 8, 'PREDICT_original_sf_convexity_std_2.5D': 19, 'PREDICT_original_sf_cvar_avg_2.5D': 8, 'PREDICT_original_sf_cvar_std_2.5D': 13, 'PREDICT_original_sf_prax_avg_2.5D': 0, 'PREDICT_original_sf_prax_std_2.5D': 1, 'PREDICT_original_sf_evar_avg_2.5D': 2, 'PREDICT_original_sf_evar_std_2.5D': 8, 'PREDICT_original_sf_solidity_avg_2.5D': 11, 'PREDICT_original_sf_solidity_std_2.5D': 18, 'PREDICT_original_sf_area_avg_2.5D': 14, 'PREDICT_original_sf_area_max_2.5D': 12, 'PREDICT_original_sf_area_min_2.5D': 9, 'PREDICT_original_sf_area_std_2.5D': 13, 'PREDICT_original_sf_volume_2.5D': 12, 'PREDICT_original_of_theta_x': 0, 'PREDICT_original_of_theta_y': 7, 'PREDICT_original_of_theta_z': 0, 'PREDICT_original_hf_min': 4, 'PREDICT_original_hf_max': 3, 'PREDICT_original_hf_mean': 0, 'PREDICT_original_hf_median': 0, 'PREDICT_original_hf_std': 3, 'PREDICT_original_hf_skewness': 3, 'PREDICT_original_hf_kurtosis': 9, 'PREDICT_original_hf_peak': 0, 'PREDICT_original_hf_peak_position': 4, 'PREDICT_original_hf_range': 3, 'PREDICT_original_hf_energy': 17, 'PREDICT_original_hf_quartile_range': 3, 'PREDICT_original_hf_entropy': 0, 'PREDICT_original_logf_min_sigma1': 2, 'PREDICT_original_logf_max_sigma1': 1, 'PREDICT_original_logf_mean_sigma1': 3, 'PREDICT_original_logf_median_sigma1': 5, 'PREDICT_original_logf_std_sigma1': 1, 'PREDICT_original_logf_skewness_sigma1': 4, 'PREDICT_original_logf_kurtosis_sigma1': 7, 'PREDICT_original_logf_peak_sigma1': 5, 'PREDICT_original_logf_peak_position_sigma1': 4, 'PREDICT_original_logf_range_sigma1': 1, 'PREDICT_original_logf_energy_sigma1': 20, 'PREDICT_original_logf_quartile_range_sigma1': 4, 'PREDICT_original_logf_entropy_sigma1': 0, 'PREDICT_original_logf_min_sigma5': 5, 'PREDICT_original_logf_max_sigma5': 3, 'PREDICT_original_logf_mean_sigma5': 6, 'PREDICT_original_logf_median_sigma5': 6, 'PREDICT_original_logf_std_sigma5': 2, 'PREDICT_original_logf_skewness_sigma5': 3, 'PREDICT_original_logf_kurtosis_sigma5': 5, 'PREDICT_original_logf_peak_sigma5': 6, 'PREDICT_original_logf_peak_position_sigma5': 3, 'PREDICT_original_logf_range_sigma5': 4, 'PREDICT_original_logf_energy_sigma5': 15, 'PREDICT_original_logf_quartile_range_sigma5': 10, 'PREDICT_original_logf_entropy_sigma5': 0, 'PREDICT_original_logf_min_sigma10': 6, 'PREDICT_original_logf_max_sigma10': 6, 'PREDICT_original_logf_mean_sigma10': 1, 'PREDICT_original_logf_median_sigma10': 4, 'PREDICT_original_logf_std_sigma10': 3, 'PREDICT_original_logf_skewness_sigma10': 3, 'PREDICT_original_logf_kurtosis_sigma10': 5, 'PREDICT_original_logf_peak_sigma10': 2, 'PREDICT_original_logf_peak_position_sigma10': 0, 'PREDICT_original_logf_range_sigma10': 5, 'PREDICT_original_logf_energy_sigma10': 16, 'PREDICT_original_logf_quartile_range_sigma10': 6, 'PREDICT_original_logf_entropy_sigma10': 0, 'PREDICT_original_tf_LBP_max_R3_P12': 0, 'PREDICT_original_tf_LBP_mean_R3_P12': 0, 'PREDICT_original_tf_LBP_median_R3_P12': 0, 'PREDICT_original_tf_LBP_std_R3_P12': 1, 'PREDICT_original_tf_LBP_skewness_R3_P12': 0, 'PREDICT_original_tf_LBP_kurtosis_R3_P12': 9, 'PREDICT_original_tf_LBP_peak_R3_P12': 0, 'PREDICT_original_tf_LBP_peak_position_R3_P12': 0, 'PREDICT_original_tf_LBP_range_R3_P12': 0, 'PREDICT_original_tf_LBP_energy_R3_P12': 15, 'PREDICT_original_tf_LBP_quartile_range_R3_P12': 1, 'PREDICT_original_tf_LBP_entropy_R3_P12': 0, 'PREDICT_original_tf_LBP_max_R8_P24': 0, 'PREDICT_original_tf_LBP_mean_R8_P24': 5, 'PREDICT_original_tf_LBP_median_R8_P24': 5, 'PREDICT_original_tf_LBP_std_R8_P24': 3, 'PREDICT_original_tf_LBP_skewness_R8_P24': 1, 'PREDICT_original_tf_LBP_kurtosis_R8_P24': 1, 'PREDICT_original_tf_LBP_peak_R8_P24': 0, 'PREDICT_original_tf_LBP_peak_position_R8_P24': 0, 'PREDICT_original_tf_LBP_range_R8_P24': 3, 'PREDICT_original_tf_LBP_energy_R8_P24': 15, 'PREDICT_original_tf_LBP_quartile_range_R8_P24': 0, 'PREDICT_original_tf_LBP_entropy_R8_P24': 0, 'PREDICT_original_tf_LBP_max_R15_P36': 0, 'PREDICT_original_tf_LBP_mean_R15_P36': 12, 'PREDICT_original_tf_LBP_median_R15_P36': 3, 'PREDICT_original_tf_LBP_std_R15_P36': 6, 'PREDICT_original_tf_LBP_skewness_R15_P36': 3, 'PREDICT_original_tf_LBP_kurtosis_R15_P36': 4, 'PREDICT_original_tf_LBP_peak_R15_P36': 0, 'PREDICT_original_tf_LBP_peak_position_R15_P36': 0, 'PREDICT_original_tf_LBP_range_R15_P36': 12, 'PREDICT_original_tf_LBP_energy_R15_P36': 16, 'PREDICT_original_tf_LBP_entropy_R15_P36': 0, 'PREDICT_original_tf_GLCM_contrastd1.0A0.0': 6, 'PREDICT_original_tf_GLCM_contrastd1.0A0.79': 3, 'PREDICT_original_tf_GLCM_contrastd1.0A1.57': 8, 'PREDICT_original_tf_GLCM_contrastd1.0A2.36': 8, 'PREDICT_original_tf_GLCM_contrastd3.0A0.0': 1, 'PREDICT_original_tf_GLCM_contrastd3.0A0.79': 0, 'PREDICT_original_tf_GLCM_contrastd3.0A1.57': 0, 'PREDICT_original_tf_GLCM_contrastd3.0A2.36': 2, 'PREDICT_original_tf_GLCM_dissimilarityd1.0A0.0': 6, 'PREDICT_original_tf_GLCM_dissimilarityd1.0A0.79': 4, 'PREDICT_original_tf_GLCM_dissimilarityd1.0A1.57': 7, 'PREDICT_original_tf_GLCM_dissimilarityd1.0A2.36': 6, 'PREDICT_original_tf_GLCM_dissimilarityd3.0A0.0': 0, 'PREDICT_original_tf_GLCM_dissimilarityd3.0A0.79': 0, 'PREDICT_original_tf_GLCM_dissimilarityd3.0A1.57': 0, 'PREDICT_original_tf_GLCM_dissimilarityd3.0A2.36': 3, 'PREDICT_original_tf_GLCM_homogeneityd1.0A0.0': 5, 'PREDICT_original_tf_GLCM_homogeneityd1.0A0.79': 4, 'PREDICT_original_tf_GLCM_homogeneityd1.0A1.57': 6, 'PREDICT_original_tf_GLCM_homogeneityd1.0A2.36': 4, 'PREDICT_original_tf_GLCM_homogeneityd3.0A0.0': 0, 'PREDICT_original_tf_GLCM_homogeneityd3.0A0.79': 0, 'PREDICT_original_tf_GLCM_homogeneityd3.0A1.57': 0, 'PREDICT_original_tf_GLCM_homogeneityd3.0A2.36': 0, 'PREDICT_original_tf_GLCM_ASMd1.0A0.0': 5, 'PREDICT_original_tf_GLCM_ASMd1.0A0.79': 5, 'PREDICT_original_tf_GLCM_ASMd1.0A1.57': 5, 'PREDICT_original_tf_GLCM_ASMd1.0A2.36': 5, 'PREDICT_original_tf_GLCM_ASMd3.0A0.0': 7, 'PREDICT_original_tf_GLCM_ASMd3.0A0.79': 7, 'PREDICT_original_tf_GLCM_ASMd3.0A1.57': 7, 'PREDICT_original_tf_GLCM_ASMd3.0A2.36': 8, 'PREDICT_original_tf_GLCM_energyd1.0A0.0': 4, 'PREDICT_original_tf_GLCM_energyd1.0A0.79': 3, 'PREDICT_original_tf_GLCM_energyd1.0A1.57': 3, 'PREDICT_original_tf_GLCM_energyd1.0A2.36': 4, 'PREDICT_original_tf_GLCM_energyd3.0A0.0': 5, 'PREDICT_original_tf_GLCM_energyd3.0A0.79': 3, 'PREDICT_original_tf_GLCM_energyd3.0A1.57': 5, 'PREDICT_original_tf_GLCM_energyd3.0A2.36': 5, 'PREDICT_original_tf_GLCM_correlationd1.0A0.0': 5, 'PREDICT_original_tf_GLCM_correlationd1.0A0.79': 4, 'PREDICT_original_tf_GLCM_correlationd1.0A1.57': 5, 'PREDICT_original_tf_GLCM_correlationd1.0A2.36': 4, 'PREDICT_original_tf_GLCM_correlationd3.0A0.0': 0, 'PREDICT_original_tf_GLCM_correlationd3.0A0.79': 0, 'PREDICT_original_tf_GLCM_correlationd3.0A1.57': 0, 'PREDICT_original_tf_GLCM_correlationd3.0A2.36': 0, 'PREDICT_original_tf_GLCMMS_contrastd1.0A0.0mean': 6, 'PREDICT_original_tf_GLCMMS_contrastd1.0A0.0std': 3, 'PREDICT_original_tf_GLCMMS_contrastd1.0A0.79mean': 8, 'PREDICT_original_tf_GLCMMS_contrastd1.0A0.79std': 8, 'PREDICT_original_tf_GLCMMS_contrastd1.0A1.57mean': 1, 'PREDICT_original_tf_GLCMMS_contrastd1.0A1.57std': 0, 'PREDICT_original_tf_GLCMMS_contrastd1.0A2.36mean': 0, 'PREDICT_original_tf_GLCMMS_contrastd1.0A2.36std': 2, 'PREDICT_original_tf_GLCMMS_contrastd3.0A0.0mean': 3, 'PREDICT_original_tf_GLCMMS_contrastd3.0A0.0std': 1, 'PREDICT_original_tf_GLCMMS_contrastd3.0A0.79mean': 0, 'PREDICT_original_tf_GLCMMS_contrastd3.0A0.79std': 2, 'PREDICT_original_tf_GLCMMS_contrastd3.0A1.57mean': 1, 'PREDICT_original_tf_GLCMMS_contrastd3.0A1.57std': 2, 'PREDICT_original_tf_GLCMMS_contrastd3.0A2.36mean': 1, 'PREDICT_original_tf_GLCMMS_contrastd3.0A2.36std': 0, 'PREDICT_original_tf_GLCMMS_dissimilarityd1.0A0.0mean': 6, 'PREDICT_original_tf_GLCMMS_dissimilarityd1.0A0.0std': 4, 'PREDICT_original_tf_GLCMMS_dissimilarityd1.0A0.79mean': 7, 'PREDICT_original_tf_GLCMMS_dissimilarityd1.0A0.79std': 6, 'PREDICT_original_tf_GLCMMS_dissimilarityd1.0A1.57mean': 0, 'PREDICT_original_tf_GLCMMS_dissimilarityd1.0A1.57std': 0, 'PREDICT_original_tf_GLCMMS_dissimilarityd1.0A2.36mean': 0, 'PREDICT_original_tf_GLCMMS_dissimilarityd1.0A2.36std': 3, 'PREDICT_original_tf_GLCMMS_dissimilarityd3.0A0.0mean': 6, 'PREDICT_original_tf_GLCMMS_dissimilarityd3.0A0.0std': 2, 'PREDICT_original_tf_GLCMMS_dissimilarityd3.0A0.79mean': 7, 'PREDICT_original_tf_GLCMMS_dissimilarityd3.0A0.79std': 6, 'PREDICT_original_tf_GLCMMS_dissimilarityd3.0A1.57mean': 2, 'PREDICT_original_tf_GLCMMS_dissimilarityd3.0A1.57std': 2, 'PREDICT_original_tf_GLCMMS_dissimilarityd3.0A2.36mean': 1, 'PREDICT_original_tf_GLCMMS_dissimilarityd3.0A2.36std': 0, 'PREDICT_original_tf_GLCMMS_homogeneityd1.0A0.0mean': 5, 'PREDICT_original_tf_GLCMMS_homogeneityd1.0A0.0std': 4, 'PREDICT_original_tf_GLCMMS_homogeneityd1.0A0.79mean': 6, 'PREDICT_original_tf_GLCMMS_homogeneityd1.0A0.79std': 4, 'PREDICT_original_tf_GLCMMS_homogeneityd1.0A1.57mean': 0, 'PREDICT_original_tf_GLCMMS_homogeneityd1.0A1.57std': 0, 'PREDICT_original_tf_GLCMMS_homogeneityd1.0A2.36mean': 0, 'PREDICT_original_tf_GLCMMS_homogeneityd1.0A2.36std': 0, 'PREDICT_original_tf_GLCMMS_homogeneityd3.0A0.0mean': 5, 'PREDICT_original_tf_GLCMMS_homogeneityd3.0A0.0std': 2, 'PREDICT_original_tf_GLCMMS_homogeneityd3.0A0.79mean': 3, 'PREDICT_original_tf_GLCMMS_homogeneityd3.0A0.79std': 1, 'PREDICT_original_tf_GLCMMS_homogeneityd3.0A1.57mean': 2, 'PREDICT_original_tf_GLCMMS_homogeneityd3.0A1.57std': 0, 'PREDICT_original_tf_GLCMMS_homogeneityd3.0A2.36mean': 1, 'PREDICT_original_tf_GLCMMS_homogeneityd3.0A2.36std': 2, 'PREDICT_original_tf_GLCMMS_ASMd1.0A0.0mean': 7, 'PREDICT_original_tf_GLCMMS_ASMd1.0A0.0std': 7, 'PREDICT_original_tf_GLCMMS_ASMd1.0A0.79mean': 7, 'PREDICT_original_tf_GLCMMS_ASMd1.0A0.79std': 8, 'PREDICT_original_tf_GLCMMS_ASMd1.0A1.57mean': 9, 'PREDICT_original_tf_GLCMMS_ASMd1.0A1.57std': 9, 'PREDICT_original_tf_GLCMMS_ASMd1.0A2.36mean': 9, 'PREDICT_original_tf_GLCMMS_ASMd1.0A2.36std': 11, 'PREDICT_original_tf_GLCMMS_ASMd3.0A0.0mean': 7, 'PREDICT_original_tf_GLCMMS_ASMd3.0A0.0std': 8, 'PREDICT_original_tf_GLCMMS_ASMd3.0A0.79mean': 7, 'PREDICT_original_tf_GLCMMS_ASMd3.0A0.79std': 8, 'PREDICT_original_tf_GLCMMS_ASMd3.0A1.57mean': 8, 'PREDICT_original_tf_GLCMMS_ASMd3.0A1.57std': 9, 'PREDICT_original_tf_GLCMMS_ASMd3.0A2.36mean': 9, 'PREDICT_original_tf_GLCMMS_ASMd3.0A2.36std': 10, 'PREDICT_original_tf_GLCMMS_energyd1.0A0.0mean': 4, 'PREDICT_original_tf_GLCMMS_energyd1.0A0.0std': 3, 'PREDICT_original_tf_GLCMMS_energyd1.0A0.79mean': 2, 'PREDICT_original_tf_GLCMMS_energyd1.0A0.79std': 2, 'PREDICT_original_tf_GLCMMS_energyd1.0A1.57mean': 4, 'PREDICT_original_tf_GLCMMS_energyd1.0A1.57std': 3, 'PREDICT_original_tf_GLCMMS_energyd1.0A2.36mean': 3, 'PREDICT_original_tf_GLCMMS_energyd1.0A2.36std': 4, 'PREDICT_original_tf_GLCMMS_energyd3.0A0.0mean': 4, 'PREDICT_original_tf_GLCMMS_energyd3.0A0.0std': 4, 'PREDICT_original_tf_GLCMMS_energyd3.0A0.79mean': 4, 'PREDICT_original_tf_GLCMMS_energyd3.0A0.79std': 4, 'PREDICT_original_tf_GLCMMS_energyd3.0A1.57mean': 4, 'PREDICT_original_tf_GLCMMS_energyd3.0A1.57std': 4, 'PREDICT_original_tf_GLCMMS_energyd3.0A2.36mean': 5, 'PREDICT_original_tf_GLCMMS_energyd3.0A2.36std': 6, 'PREDICT_original_tf_GLCMMS_correlationd1.0A0.0mean': 5, 'PREDICT_original_tf_GLCMMS_correlationd1.0A0.0std': 3, 'PREDICT_original_tf_GLCMMS_correlationd1.0A0.79mean': 7, 'PREDICT_original_tf_GLCMMS_correlationd1.0A0.79std': 3, 'PREDICT_original_tf_GLCMMS_correlationd1.0A1.57mean': 0, 'PREDICT_original_tf_GLCMMS_correlationd1.0A1.57std': 0, 'PREDICT_original_tf_GLCMMS_correlationd1.0A2.36mean': 0, 'PREDICT_original_tf_GLCMMS_correlationd1.0A2.36std': 0, 'PREDICT_original_tf_GLCMMS_correlationd3.0A0.0mean': 1, 'PREDICT_original_tf_GLCMMS_correlationd3.0A0.0std': 0, 'PREDICT_original_tf_GLCMMS_correlationd3.0A0.79mean': 3, 'PREDICT_original_tf_GLCMMS_correlationd3.0A0.79std': 0, 'PREDICT_original_tf_GLCMMS_correlationd3.0A1.57mean': 2, 'PREDICT_original_tf_GLCMMS_correlationd3.0A1.57std': 1, 'PREDICT_original_tf_GLCMMS_correlationd3.0A2.36mean': 2, 'PREDICT_original_tf_GLCMMS_correlationd3.0A2.36std': 1, 'PREDICT_original_tf_Gabor_min_F0.05_A0.0': 3, 'PREDICT_original_tf_Gabor_max_F0.05_A0.0': 4, 'PREDICT_original_tf_Gabor_mean_F0.05_A0.0': 7, 'PREDICT_original_tf_Gabor_median_F0.05_A0.0': 7, 'PREDICT_original_tf_Gabor_std_F0.05_A0.0': 5, 'PREDICT_original_tf_Gabor_skewness_F0.05_A0.0': 10, 'PREDICT_original_tf_Gabor_kurtosis_F0.05_A0.0': 9, 'PREDICT_original_tf_Gabor_peak_F0.05_A0.0': 19, 'PREDICT_original_tf_Gabor_peak_position_F0.05_A0.0': 2, 'PREDICT_original_tf_Gabor_range_F0.05_A0.0': 6, 'PREDICT_original_tf_Gabor_energy_F0.05_A0.0': 21, 'PREDICT_original_tf_Gabor_quartile_range_F0.05_A0.0': 8, 'PREDICT_original_tf_Gabor_entropy_F0.05_A0.0': 0, 'PREDICT_original_tf_Gabor_min_F0.05_A0.79': 6, 'PREDICT_original_tf_Gabor_max_F0.05_A0.79': 3, 'PREDICT_original_tf_Gabor_mean_F0.05_A0.79': 8, 'PREDICT_original_tf_Gabor_median_F0.05_A0.79': 12, 'PREDICT_original_tf_Gabor_std_F0.05_A0.79': 2, 'PREDICT_original_tf_Gabor_skewness_F0.05_A0.79': 13, 'PREDICT_original_tf_Gabor_kurtosis_F0.05_A0.79': 10, 'PREDICT_original_tf_Gabor_peak_F0.05_A0.79': 19, 'PREDICT_original_tf_Gabor_peak_position_F0.05_A0.79': 2, 'PREDICT_original_tf_Gabor_range_F0.05_A0.79': 5, 'PREDICT_original_tf_Gabor_energy_F0.05_A0.79': 17, 'PREDICT_original_tf_Gabor_quartile_range_F0.05_A0.79': 4, 'PREDICT_original_tf_Gabor_entropy_F0.05_A0.79': 0, 'PREDICT_original_tf_Gabor_min_F0.05_A1.57': 5, 'PREDICT_original_tf_Gabor_max_F0.05_A1.57': 2, 'PREDICT_original_tf_Gabor_mean_F0.05_A1.57': 5, 'PREDICT_original_tf_Gabor_median_F0.05_A1.57': 9, 'PREDICT_original_tf_Gabor_std_F0.05_A1.57': 2, 'PREDICT_original_tf_Gabor_skewness_F0.05_A1.57': 6, 'PREDICT_original_tf_Gabor_kurtosis_F0.05_A1.57': 12, 'PREDICT_original_tf_Gabor_peak_F0.05_A1.57': 17, 'PREDICT_original_tf_Gabor_peak_position_F0.05_A1.57': 2, 'PREDICT_original_tf_Gabor_range_F0.05_A1.57': 4, 'PREDICT_original_tf_Gabor_energy_F0.05_A1.57': 14, 'PREDICT_original_tf_Gabor_quartile_range_F0.05_A1.57': 5, 'PREDICT_original_tf_Gabor_entropy_F0.05_A1.57': 0, 'PREDICT_original_tf_Gabor_min_F0.05_A2.36': 8, 'PREDICT_original_tf_Gabor_max_F0.05_A2.36': 4, 'PREDICT_original_tf_Gabor_mean_F0.05_A2.36': 9, 'PREDICT_original_tf_Gabor_median_F0.05_A2.36': 8, 'PREDICT_original_tf_Gabor_std_F0.05_A2.36': 3, 'PREDICT_original_tf_Gabor_skewness_F0.05_A2.36': 7, 'PREDICT_original_tf_Gabor_kurtosis_F0.05_A2.36': 13, 'PREDICT_original_tf_Gabor_peak_F0.05_A2.36': 15, 'PREDICT_original_tf_Gabor_peak_position_F0.05_A2.36': 2, 'PREDICT_original_tf_Gabor_range_F0.05_A2.36': 3, 'PREDICT_original_tf_Gabor_energy_F0.05_A2.36': 16, 'PREDICT_original_tf_Gabor_quartile_range_F0.05_A2.36': 3, 'PREDICT_original_tf_Gabor_entropy_F0.05_A2.36': 0, 'PREDICT_original_tf_Gabor_min_F0.2_A0.0': 13, 'PREDICT_original_tf_Gabor_max_F0.2_A0.0': 11, 'PREDICT_original_tf_Gabor_mean_F0.2_A0.0': 12, 'PREDICT_original_tf_Gabor_median_F0.2_A0.0': 8, 'PREDICT_original_tf_Gabor_std_F0.2_A0.0': 11, 'PREDICT_original_tf_Gabor_skewness_F0.2_A0.0': 6, 'PREDICT_original_tf_Gabor_kurtosis_F0.2_A0.0': 9, 'PREDICT_original_tf_Gabor_peak_F0.2_A0.0': 8, 'PREDICT_original_tf_Gabor_peak_position_F0.2_A0.0': 1, 'PREDICT_original_tf_Gabor_range_F0.2_A0.0': 15, 'PREDICT_original_tf_Gabor_energy_F0.2_A0.0': 19, 'PREDICT_original_tf_Gabor_quartile_range_F0.2_A0.0': 7, 'PREDICT_original_tf_Gabor_entropy_F0.2_A0.0': 0, 'PREDICT_original_tf_Gabor_min_F0.2_A0.79': 9, 'PREDICT_original_tf_Gabor_max_F0.2_A0.79': 5, 'PREDICT_original_tf_Gabor_mean_F0.2_A0.79': 4, 'PREDICT_original_tf_Gabor_median_F0.2_A0.79': 8, 'PREDICT_original_tf_Gabor_std_F0.2_A0.79': 5, 'PREDICT_original_tf_Gabor_skewness_F0.2_A0.79': 4, 'PREDICT_original_tf_Gabor_kurtosis_F0.2_A0.79': 12, 'PREDICT_original_tf_Gabor_peak_F0.2_A0.79': 5, 'PREDICT_original_tf_Gabor_peak_position_F0.2_A0.79': 1, 'PREDICT_original_tf_Gabor_range_F0.2_A0.79': 7, 'PREDICT_original_tf_Gabor_energy_F0.2_A0.79': 27, 'PREDICT_original_tf_Gabor_quartile_range_F0.2_A0.79': 7, 'PREDICT_original_tf_Gabor_entropy_F0.2_A0.79': 0, 'PREDICT_original_tf_Gabor_min_F0.2_A1.57': 5, 'PREDICT_original_tf_Gabor_max_F0.2_A1.57': 1, 'PREDICT_original_tf_Gabor_mean_F0.2_A1.57': 9, 'PREDICT_original_tf_Gabor_median_F0.2_A1.57': 6, 'PREDICT_original_tf_Gabor_std_F0.2_A1.57': 4, 'PREDICT_original_tf_Gabor_skewness_F0.2_A1.57': 15, 'PREDICT_original_tf_Gabor_kurtosis_F0.2_A1.57': 9, 'PREDICT_original_tf_Gabor_peak_F0.2_A1.57': 8, 'PREDICT_original_tf_Gabor_peak_position_F0.2_A1.57': 2, 'PREDICT_original_tf_Gabor_range_F0.2_A1.57': 2, 'PREDICT_original_tf_Gabor_energy_F0.2_A1.57': 23, 'PREDICT_original_tf_Gabor_quartile_range_F0.2_A1.57': 9, 'PREDICT_original_tf_Gabor_entropy_F0.2_A1.57': 0, 'PREDICT_original_tf_Gabor_min_F0.2_A2.36': 7, 'PREDICT_original_tf_Gabor_max_F0.2_A2.36': 5, 'PREDICT_original_tf_Gabor_mean_F0.2_A2.36': 3, 'PREDICT_original_tf_Gabor_median_F0.2_A2.36': 7, 'PREDICT_original_tf_Gabor_std_F0.2_A2.36': 4, 'PREDICT_original_tf_Gabor_skewness_F0.2_A2.36': 4, 'PREDICT_original_tf_Gabor_kurtosis_F0.2_A2.36': 7, 'PREDICT_original_tf_Gabor_peak_F0.2_A2.36': 8, 'PREDICT_original_tf_Gabor_peak_position_F0.2_A2.36': 2, 'PREDICT_original_tf_Gabor_range_F0.2_A2.36': 4, 'PREDICT_original_tf_Gabor_energy_F0.2_A2.36': 20, 'PREDICT_original_tf_Gabor_quartile_range_F0.2_A2.36': 3, 'PREDICT_original_tf_Gabor_entropy_F0.2_A2.36': 0, 'PREDICT_original_tf_Gabor_min_F0.5_A0.0': 8, 'PREDICT_original_tf_Gabor_max_F0.5_A0.0': 6, 'PREDICT_original_tf_Gabor_mean_F0.5_A0.0': 10, 'PREDICT_original_tf_Gabor_median_F0.5_A0.0': 4, 'PREDICT_original_tf_Gabor_std_F0.5_A0.0': 8, 'PREDICT_original_tf_Gabor_skewness_F0.5_A0.0': 4, 'PREDICT_original_tf_Gabor_kurtosis_F0.5_A0.0': 9, 'PREDICT_original_tf_Gabor_peak_F0.5_A0.0': 5, 'PREDICT_original_tf_Gabor_peak_position_F0.5_A0.0': 3, 'PREDICT_original_tf_Gabor_range_F0.5_A0.0': 8, 'PREDICT_original_tf_Gabor_energy_F0.5_A0.0': 16, 'PREDICT_original_tf_Gabor_quartile_range_F0.5_A0.0': 8, 'PREDICT_original_tf_Gabor_entropy_F0.5_A0.0': 0, 'PREDICT_original_tf_Gabor_min_F0.5_A0.79': 9, 'PREDICT_original_tf_Gabor_max_F0.5_A0.79': 11, 'PREDICT_original_tf_Gabor_mean_F0.5_A0.79': 9, 'PREDICT_original_tf_Gabor_median_F0.5_A0.79': 7, 'PREDICT_original_tf_Gabor_std_F0.5_A0.79': 6, 'PREDICT_original_tf_Gabor_skewness_F0.5_A0.79': 3, 'PREDICT_original_tf_Gabor_kurtosis_F0.5_A0.79': 8, 'PREDICT_original_tf_Gabor_peak_F0.5_A0.79': 7, 'PREDICT_original_tf_Gabor_peak_position_F0.5_A0.79': 4, 'PREDICT_original_tf_Gabor_range_F0.5_A0.79': 6, 'PREDICT_original_tf_Gabor_energy_F0.5_A0.79': 22, 'PREDICT_original_tf_Gabor_quartile_range_F0.5_A0.79': 8, 'PREDICT_original_tf_Gabor_entropy_F0.5_A0.79': 0, 'PREDICT_original_tf_Gabor_min_F0.5_A1.57': 11, 'PREDICT_original_tf_Gabor_max_F0.5_A1.57': 6, 'PREDICT_original_tf_Gabor_mean_F0.5_A1.57': 6, 'PREDICT_original_tf_Gabor_median_F0.5_A1.57': 7, 'PREDICT_original_tf_Gabor_std_F0.5_A1.57': 7, 'PREDICT_original_tf_Gabor_skewness_F0.5_A1.57': 3, 'PREDICT_original_tf_Gabor_kurtosis_F0.5_A1.57': 11, 'PREDICT_original_tf_Gabor_peak_F0.5_A1.57': 8, 'PREDICT_original_tf_Gabor_peak_position_F0.5_A1.57': 6, 'PREDICT_original_tf_Gabor_range_F0.5_A1.57': 7, 'PREDICT_original_tf_Gabor_energy_F0.5_A1.57': 19, 'PREDICT_original_tf_Gabor_quartile_range_F0.5_A1.57': 7, 'PREDICT_original_tf_Gabor_entropy_F0.5_A1.57': 0, 'PREDICT_original_tf_Gabor_min_F0.5_A2.36': 8, 'PREDICT_original_tf_Gabor_max_F0.5_A2.36': 7, 'PREDICT_original_tf_Gabor_mean_F0.5_A2.36': 12, 'PREDICT_original_tf_Gabor_median_F0.5_A2.36': 5, 'PREDICT_original_tf_Gabor_std_F0.5_A2.36': 9, 'PREDICT_original_tf_Gabor_skewness_F0.5_A2.36': 5, 'PREDICT_original_tf_Gabor_kurtosis_F0.5_A2.36': 7, 'PREDICT_original_tf_Gabor_peak_F0.5_A2.36': 4, 'PREDICT_original_tf_Gabor_peak_position_F0.5_A2.36': 4, 'PREDICT_original_tf_Gabor_range_F0.5_A2.36': 6, 'PREDICT_original_tf_Gabor_energy_F0.5_A2.36': 15, 'PREDICT_original_tf_Gabor_quartile_range_F0.5_A2.36': 7, 'PREDICT_original_tf_Gabor_entropy_F0.5_A2.36': 0, 'PREDICT_original_vf_Frangi_full_max_SR(1.0, 10.0)_SS2.0': 20, 'PREDICT_original_vf_Frangi_full_mean_SR(1.0, 10.0)_SS2.0': 18, 'PREDICT_original_vf_Frangi_full_std_SR(1.0, 10.0)_SS2.0': 21, 'PREDICT_original_vf_Frangi_full_skewness_SR(1.0, 10.0)_SS2.0': 15, 'PREDICT_original_vf_Frangi_full_kurtosis_SR(1.0, 10.0)_SS2.0': 18, 'PREDICT_original_vf_Frangi_full_range_SR(1.0, 10.0)_SS2.0': 20, 'PREDICT_original_vf_Frangi_full_energy_SR(1.0, 10.0)_SS2.0': 26, 'PREDICT_original_vf_Frangi_full_quartile_range_SR(1.0, 10.0)_SS2.0': 16, 'PREDICT_original_vf_Frangi_full_entropy_SR(1.0, 10.0)_SS2.0': 2, 'PREDICT_original_vf_Frangi_edge_max_SR(1.0, 10.0)_SS2.0': 20, 'PREDICT_original_vf_Frangi_edge_mean_SR(1.0, 10.0)_SS2.0': 18, 'PREDICT_original_vf_Frangi_edge_std_SR(1.0, 10.0)_SS2.0': 21, 'PREDICT_original_vf_Frangi_edge_skewness_SR(1.0, 10.0)_SS2.0': 15, 'PREDICT_original_vf_Frangi_edge_kurtosis_SR(1.0, 10.0)_SS2.0': 18, 'PREDICT_original_vf_Frangi_edge_range_SR(1.0, 10.0)_SS2.0': 20, 'PREDICT_original_vf_Frangi_edge_energy_SR(1.0, 10.0)_SS2.0': 26, 'PREDICT_original_vf_Frangi_edge_quartile_range_SR(1.0, 10.0)_SS2.0': 16, 'PREDICT_original_vf_Frangi_edge_entropy_SR(1.0, 10.0)_SS2.0': 2, 'PREDICT_original_vf_Frangi_inner_max_SR(1.0, 10.0)_SS2.0': 23, 'PREDICT_original_vf_Frangi_inner_mean_SR(1.0, 10.0)_SS2.0': 17, 'PREDICT_original_vf_Frangi_inner_std_SR(1.0, 10.0)_SS2.0': 22, 'PREDICT_original_vf_Frangi_inner_skewness_SR(1.0, 10.0)_SS2.0': 13, 'PREDICT_original_vf_Frangi_inner_kurtosis_SR(1.0, 10.0)_SS2.0': 16, 'PREDICT_original_vf_Frangi_inner_range_SR(1.0, 10.0)_SS2.0': 23, 'PREDICT_original_vf_Frangi_inner_energy_SR(1.0, 10.0)_SS2.0': 26, 'PREDICT_original_vf_Frangi_inner_quartile_range_SR(1.0, 10.0)_SS2.0': 13, 'PREDICT_original_vf_Frangi_inner_entropy_SR(1.0, 10.0)_SS2.0': 0, 'PREDICT_original_phasef_monogenic_min_WL3_N5': 3, 'PREDICT_original_phasef_monogenic_max_WL3_N5': 4, 'PREDICT_original_phasef_monogenic_mean_WL3_N5': 5, 'PREDICT_original_phasef_monogenic_median_WL3_N5': 7, 'PREDICT_original_phasef_monogenic_std_WL3_N5': 3, 'PREDICT_original_phasef_monogenic_skewness_WL3_N5': 5, 'PREDICT_original_phasef_monogenic_kurtosis_WL3_N5': 5, 'PREDICT_original_phasef_monogenic_peak_WL3_N5': 0, 'PREDICT_original_phasef_monogenic_peak_position_WL3_N5': 0, 'PREDICT_original_phasef_monogenic_range_WL3_N5': 3, 'PREDICT_original_phasef_monogenic_energy_WL3_N5': 19, 'PREDICT_original_phasef_monogenic_quartile_range_WL3_N5': 6, 'PREDICT_original_phasef_monogenic_entropy_WL3_N5': 0, 'PREDICT_original_phasef_phasecong_max_WL3_N5': 4, 'PREDICT_original_phasef_phasecong_mean_WL3_N5': 7, 'PREDICT_original_phasef_phasecong_std_WL3_N5': 5, 'PREDICT_original_phasef_phasecong_skewness_WL3_N5': 8, 'PREDICT_original_phasef_phasecong_kurtosis_WL3_N5': 12, 'PREDICT_original_phasef_phasecong_range_WL3_N5': 4, 'PREDICT_original_phasef_phasecong_energy_WL3_N5': 7, 'PREDICT_original_phasef_phasecong_quartile_range_WL3_N5': 9, 'PREDICT_original_phasef_phasecong_entropy_WL3_N5': 1, 'PREDICT_original_phasef_phasesym_max_WL3_N5': 6, 'PREDICT_original_phasef_phasesym_mean_WL3_N5': 2, 'PREDICT_original_phasef_phasesym_std_WL3_N5': 2, 'PREDICT_original_phasef_phasesym_skewness_WL3_N5': 8, 'PREDICT_original_phasef_phasesym_kurtosis_WL3_N5': 11, 'PREDICT_original_phasef_phasesym_range_WL3_N5': 6, 'PREDICT_original_phasef_phasesym_energy_WL3_N5': 12, 'PREDICT_original_phasef_phasesym_quartile_range_WL3_N5': 1, 'PREDICT_original_phasef_phasesym_entropy_WL3_N5': 1}\n",
      "2826\n",
      "27\n"
     ]
    }
   ],
   "source": [
    "k = 1.5\n",
    "n_outliers={}\n",
    "\n",
    "#print(X_train.head)\n",
    "\n",
    "X_train_out = X_train[:]\n",
    "X_test_out = X_test[:]\n",
    "\n",
    "for feature in X_train_out.columns:\n",
    "    q25, q75 = percentile(X_train_out[feature], 25), percentile(X_train_out[feature], 75)\n",
    "    iqr = q75 - q25\n",
    "    cut_off = iqr * k\n",
    "    lower, upper = q25 - cut_off, q75 + cut_off\n",
    "    outliers = [x for x in X_train_out[feature] if x < lower or x > upper]\n",
    "    n_outliers[feature] = len(outliers)\n",
    "\n",
    "    if any(X_train_out[feature] < lower):\n",
    "        X_train_out.loc[X_train_out[feature] < lower, feature] = lower\n",
    "    if any(X_train_out[feature] > upper):\n",
    "        X_train_out.loc[X_train_out[feature] > upper, feature] = upper    \n",
    "\n",
    "    if any(X_test_out[feature] < lower):\n",
    "        X_test_out.loc[X_test_out[feature] < lower, feature] = lower\n",
    "    if any(X_test_out[feature] > upper):\n",
    "        X_test_out.loc[X_test_out[feature] > upper, feature] = upper\n",
    "\n",
    "print(n_outliers)\n",
    "print(sum(n_outliers.values()))\n",
    "print(max(n_outliers.values()))\n",
    "\n",
    "#print(X_train_out.head)\n",
    "\n",
    "            "
   ]
  },
  {
   "attachments": {},
   "cell_type": "markdown",
   "metadata": {},
   "source": [
    "### Scaling the data"
   ]
  },
  {
   "cell_type": "code",
   "execution_count": 135,
   "metadata": {},
   "outputs": [
    {
     "name": "stderr",
     "output_type": "stream",
     "text": [
      "C:\\Users\\lotte\\AppData\\Local\\Temp\\ipykernel_2752\\3036259404.py:10: SettingWithCopyWarning: \n",
      "A value is trying to be set on a copy of a slice from a DataFrame.\n",
      "Try using .loc[row_indexer,col_indexer] = value instead\n",
      "\n",
      "See the caveats in the documentation: https://pandas.pydata.org/pandas-docs/stable/user_guide/indexing.html#returning-a-view-versus-a-copy\n",
      "  X_train_norm['label'] = y_train.values    #alleen voor het plotten\n"
     ]
    },
    {
     "data": {
      "text/plain": [
       "[Text(0.5, 1.0, 'Voorbeeld grafiek om te inspecteren hoe de data is verdeeld na schalen')]"
      ]
     },
     "execution_count": 135,
     "metadata": {},
     "output_type": "execute_result"
    },
    {
     "data": {
      "image/png": "[encoded data removed]",
      "text/plain": [
       "<Figure size 640x480 with 1 Axes>"
      ]
     },
     "metadata": {},
     "output_type": "display_data"
    }
   ],
   "source": [
    "scaler = RobustScaler().fit(X_train_out) #Dit schaalt de data\n",
    "X_train_normalized = scaler.transform(X_train_out)\n",
    "X_train_normalized = pd.DataFrame(X_train_normalized, columns=X_train.columns, index=X_train.index) #de normalized functie zorgt voor een numpy array, dus moet weer even teruggezet worden in een dataframe. \n",
    "\n",
    "X_test_normalized = scaler.transform(X_test_out)\n",
    "X_test_normalized = pd.DataFrame(X_test_normalized, columns=X_test.columns)\n",
    "\n",
    "# Plotten om te zien hoe het er nu uitziet: \n",
    "X_train_norm = X_train_normalized[:]     #alleen voor het plotten\n",
    "X_train_norm['label'] = y_train.values    #alleen voor het plotten\n",
    "sb.scatterplot(data=X_train_norm, x=feature_names[8], y=feature_names[340], hue='label').set(title=\"Voorbeeld grafiek om te inspecteren hoe de data is verdeeld na schalen\")\n",
    "\n"
   ]
  },
  {
   "attachments": {},
   "cell_type": "markdown",
   "metadata": {},
   "source": [
    "## Finding hyperparameters for Lasso & PCA\n",
    "Input = X_train_normalized, Y_train\n",
    "Output = C & n_components"
   ]
  },
  {
   "attachments": {},
   "cell_type": "markdown",
   "metadata": {},
   "source": [
    "### Find new hyperparameters"
   ]
  },
  {
   "cell_type": "code",
   "execution_count": 136,
   "metadata": {},
   "outputs": [
    {
     "name": "stdout",
     "output_type": "stream",
     "text": [
      "Best hyperparameters:  {'pca__n_components': 0.85, 'lasso__estimator__C': 0.5}\n",
      "validation set score: 0.8106884920634922\n",
      "train score:  0.9343058324159749\n",
      "validation score:  0.8106884920634922\n"
     ]
    }
   ],
   "source": [
    "# Pipeline: schaling is al gebeurd, KNN staat vast (default), Lasso & PCA variëren\n",
    "\n",
    "pipe_KNN = Pipeline([('lasso', SelectFromModel(LogisticRegression(penalty='l1', solver='liblinear'))),\n",
    "                    ('pca', PCA()),\n",
    "                    ('classifier', KNeighborsClassifier())])\n",
    "\n",
    "parameters = {'lasso__estimator__C': [0.1,0.2,0.3,0.4,0.5,0.6,0.7,0.8,0.9,1,2,3,4,5], \n",
    "              'pca__n_components': [0.7,0.75,0.8,0.85,0.9,0.95,0.99],\n",
    "              }\n",
    "\n",
    "search_fs = RandomizedSearchCV(pipe_KNN, parameters, cv=5, n_iter=98, return_train_score=True, scoring=\"roc_auc\")\n",
    "search_fs.fit(X_train_normalized, y_train)\n",
    "print(\"Best hyperparameters: \", search_fs.best_params_)\n",
    "print('validation set score: ' + str(search_fs.best_score_))\n",
    "\n",
    "best_index = search_fs.best_index_ \n",
    "train_score = search_fs.cv_results_[f\"mean_train_score\"][best_index]           \n",
    "validation_score = search_fs.cv_results_[f\"mean_test_score\"][best_index]   #ging even checken of hieruit hetzelfde kwam als best_score_ en dat klopt\n",
    "\n",
    "print(\"train score: \", train_score)\n",
    "print(\"validation score: \", validation_score)"
   ]
  },
  {
   "attachments": {},
   "cell_type": "markdown",
   "metadata": {},
   "source": [
    "### Find new shape after applying optimized parameters for PCA and LASSO"
   ]
  },
  {
   "cell_type": "code",
   "execution_count": 137,
   "metadata": {},
   "outputs": [
    {
     "name": "stdout",
     "output_type": "stream",
     "text": [
      "(148, 48)\n",
      "19\n",
      "(148, 19)\n"
     ]
    }
   ],
   "source": [
    "\n",
    "C = search_fs.best_params_['lasso__estimator__C'] \n",
    "n_components = search_fs.best_params_['pca__n_components']\n",
    "\n",
    "logistic = LogisticRegression(C=C, penalty='l1', solver='liblinear', random_state=7)\n",
    "\n",
    "model = SelectFromModel(logistic)\n",
    "model.fit(X_train_normalized,y_train)\n",
    "#X_train_selected = model.transform(X_train_normalized)\n",
    "\n",
    "SF = model.get_support()\n",
    "X_train_features = X_train_normalized.loc[:,SF]\n",
    "\n",
    "print(X_train_features.shape)\n",
    "\n",
    "pca=PCA(n_components=n_components)\n",
    "X_train_pca = pca.fit_transform(X_train_features)\n",
    "\n",
    "print(pca.n_components_)\n",
    "print(X_train_pca.shape)\n"
   ]
  },
  {
   "attachments": {},
   "cell_type": "markdown",
   "metadata": {},
   "source": [
    "## Choosing a classifier and hyperparameters\n",
    "Input = C, n_components, X_train_normalized, Y_train\n",
    "Output = train & validation score per classifier + best parameters for the classifier"
   ]
  },
  {
   "attachments": {},
   "cell_type": "markdown",
   "metadata": {},
   "source": [
    "### Test different classifiers"
   ]
  },
  {
   "cell_type": "code",
   "execution_count": 138,
   "metadata": {},
   "outputs": [],
   "source": [
    "# Feature selection\n",
    "\n",
    "C = search_fs.best_params_['lasso__estimator__C'] \n",
    "n_components = search_fs.best_params_['pca__n_components']\n",
    "\n",
    "lasso_pca = [('lasso', SelectFromModel(LogisticRegression(C=C, penalty='l1', solver='liblinear'))),\n",
    "             ('pca', PCA(n_components=n_components))]\n",
    "\n",
    "# Testing different classifiers\n",
    "\n",
    "pipe_knn = Pipeline(lasso_pca + [('classifier', KNeighborsClassifier())])\n",
    "pipe_rf = Pipeline(lasso_pca + [('classifier', RandomForestClassifier())])\n",
    "pipe_svc = Pipeline(lasso_pca + [('classifier', svm.SVC())])\n",
    "\n",
    "parameters_knn = {'classifier__n_neighbors': range(5,30),\n",
    "                  'classifier__p': [1, 2],\n",
    "                  'classifier__leaf_size': [1, 5, 10, 15]\n",
    "                 }\n",
    "\n",
    "parameters_rf = {'classifier__n_estimators': [10, 50, 100, 150, 200],\n",
    "                 'classifier__max_depth': [3, 4, 5, 6, 7],\n",
    "                 'classifier__min_samples_split': [2, 4, 8, 10, 15, 20],\n",
    "                 'classifier__max_features': ['sqrt','log2', None]\n",
    "                }\n",
    "\n",
    "parameters_svc = {'classifier__kernel': ['linear', 'rbf', 'poly'],\n",
    "                  'classifier__C': [0.01, 0.1, 1, 10],\n",
    "                  'classifier__gamma': [0.001, 0.001, 0.01, 0.1, 1],\n",
    "                  'classifier__degree': [1, 2, 3, 4, 5, 6, 7]\n",
    "                 }\n",
    "\n",
    "classifiers = {'knn': (pipe_knn, parameters_knn),\n",
    "               'Random Forest': (pipe_rf, parameters_rf),\n",
    "               'SVC': (pipe_svc, parameters_svc)}\n",
    "\n",
    "best_params_dict = {}\n",
    "for name, (classifier, parameter) in classifiers.items():\n",
    "    best_params_dict[name] = {\"params\": [], \"val_scores\": [], \"train_scores\": []}\n",
    "    search = RandomizedSearchCV(classifier, parameter, cv=5, n_iter=50, return_train_score=True, scoring=\"roc_auc\")\n",
    "    search.fit(X_train_normalized, y_train)\n",
    "    best_params_dict[name][\"params\"].append(search.best_params_)\n",
    "    best_index = search.best_index_\n",
    "    best_val_score = search.best_score_\n",
    "    best_train_score = search.cv_results_[f\"mean_train_score\"][best_index]\n",
    "    best_params_dict[name][\"val_scores\"].append(best_val_score)\n",
    "    best_params_dict[name][\"train_scores\"].append(best_train_score)\n",
    "\n",
    "print(best_params_dict)\n"
   ]
  },
  {
   "attachments": {},
   "cell_type": "markdown",
   "metadata": {},
   "source": [
    "### Comparison ROC curves different classifiers"
   ]
  },
  {
   "cell_type": "code",
   "execution_count": null,
   "metadata": {},
   "outputs": [],
   "source": [
    "y_test_int = pd.Series(y_test).map({'malignant': 1, 'benign': 0}).astype(int)\n",
    "\n",
    "#SVC on ROC curve\n",
    "C = 1\n",
    "kernel = 'linear'\n",
    "\n",
    "lasso_C = 0.5\n",
    "pca_n = 0.85\n",
    "\n",
    "lasso_pca = [('lasso', SelectFromModel(LogisticRegression(C=lasso_C, penalty='l1', solver='liblinear'))),\n",
    "             ('pca', PCA(n_components=pca_n))]\n",
    "\n",
    "model_svc = Pipeline(lasso_pca + [('classifier', svm.SVC(C=C, kernel=kernel, probability=True))])\n",
    "model_svc.fit(X_train_normalized, y_train)\n",
    "\n",
    "y_pred_proba_svc = model_svc.predict_proba(X_test_normalized)[:, 1]\n",
    "\n",
    "fpr_svc, tpr_svc, thresholds_svc = roc_curve(y_test_int, y_pred_proba_svc)\n",
    "auc_score_svc = roc_auc_score(y_test_int, y_pred_proba_svc)\n",
    "\n",
    "# KNN on ROC curve\n",
    "best_params_knn = best_params_dict['knn']['params'][0]\n",
    "n_neighbors = best_params_knn['classifier__n_neighbors']\n",
    "p = best_params_knn['classifier__p']\n",
    "\n",
    "model_knn = Pipeline(lasso_pca + [('classifier', KNeighborsClassifier(n_neighbors=n_neighbors, p=p))])\n",
    "model_knn.fit(X_train_normalized, y_train)\n",
    "\n",
    "y_pred_proba_knn = model_knn.predict_proba(X_test_normalized)[:, 1]\n",
    "\n",
    "fpr_knn, tpr_knn, thresholds_knn = roc_curve(y_test_int, y_pred_proba_knn)\n",
    "auc_score_knn = roc_auc_score(y_test_int, y_pred_proba_knn)\n",
    "\n",
    "# RF on ROC curve\n",
    "best_params_rf = best_params_dict['Random Forest']['params'][0]\n",
    "n_estimators = best_params_rf['classifier__n_estimators']\n",
    "max_depth = best_params_rf['classifier__max_depth']\n",
    "min_samples_split = best_params_rf['classifier__min_samples_split']\n",
    "max_features = best_params_rf['classifier__max_features']\n",
    "\n",
    "model_rf = Pipeline(lasso_pca + [('classifier', RandomForestClassifier(n_estimators=n_estimators, max_depth=max_depth, min_samples_split=min_samples_split, max_features=max_features))])\n",
    "model_rf.fit(X_train_normalized, y_train)\n",
    "\n",
    "y_pred_proba_rf = model_rf.predict_proba(X_test_normalized)[:, 1]\n",
    "\n",
    "fpr_rf, tpr_rf, thresholds_rf = roc_curve(y_test_int, y_pred_proba_rf)\n",
    "auc_score_rf = roc_auc_score(y_test_int, y_pred_proba_rf)\n",
    "\n",
    "plt.plot(fpr_knn, tpr_knn, color='blue', lw=2, label=f'KNN (AUC = {auc_score_knn:.2f})')\n",
    "plt.plot(fpr_rf, tpr_rf, color='green', lw=2, label=f'Random Forest (AUC = {auc_score_rf:.2f})')\n",
    "plt.plot(fpr_svc, tpr_svc, color='red', lw=2, label=f'SVC (AUC = {auc_score_svc:.2f})')\n",
    "plt.plot([0, 1], [0, 1], color='gray', lw=1, linestyle='--')\n",
    "plt.xlim([0.0, 1.0])\n",
    "plt.ylim([0.0, 1.05])\n",
    "plt.xlabel('False Positive Rate')\n",
    "plt.ylabel('True Positive Rate')\n",
    "plt.title('ROC Curves')\n",
    "plt.legend()\n",
    "plt.show()\n"
   ]
  },
  {
   "attachments": {},
   "cell_type": "markdown",
   "metadata": {},
   "source": [
    "## Full method"
   ]
  },
  {
   "attachments": {},
   "cell_type": "markdown",
   "metadata": {},
   "source": [
    "### Define the full method"
   ]
  },
  {
   "cell_type": "code",
   "execution_count": null,
   "metadata": {},
   "outputs": [],
   "source": [
    "# Defining our FULL model\n",
    "lasso_C = 0.5\n",
    "pca_n = 0.85\n",
    "lasso_pca = [('lasso', SelectFromModel(LogisticRegression(C=lasso_C, penalty='l1', solver='liblinear'))),\n",
    "             ('pca', PCA(n_components=pca_n))]\n",
    "classifier_chosen = Pipeline(lasso_pca + [('classifier', svm.SVC(kernel='linear', C=1, probability=True))])\n",
    "classifier_chosen.fit(X_train_normalized,y_train)\n",
    "\n",
    "# Predicting test set labels\n",
    "y_pred = classifier_chosen.predict(X_test_normalized)\n",
    "le = LabelEncoder()\n",
    "le.fit(['benign', 'malignant'])\n",
    "y_test_bin = le.transform(y_test)\n",
    "y_pred_bin = le.transform(y_pred)\n",
    "\n",
    "# Calculating results\n",
    "y_proba = classifier_chosen.predict_proba(X_test_normalized)[:, 1]\n",
    "auc_score_test = roc_auc_score(y_test, y_proba)\n",
    "accuracy = accuracy_score(y_test, y_pred)\n",
    "\n",
    "tn, fp, fn, tp = confusion_matrix(y_test_bin, y_pred_bin).ravel()\n",
    "sensitivity = recall_score(y_test_bin, y_pred_bin)\n",
    "specificity = tn / (tn + fp)\n",
    "\n",
    "print(f'Accuracy:{accuracy}')\n",
    "print(f'AUC:{auc_score_test}')\n",
    "print(f'sensitivity:{sensitivity}')\n",
    "print(f'specificity:{specificity}')"
   ]
  },
  {
   "attachments": {},
   "cell_type": "markdown",
   "metadata": {},
   "source": [
    "### Learning curve"
   ]
  },
  {
   "cell_type": "code",
   "execution_count": null,
   "metadata": {},
   "outputs": [],
   "source": [
    "train_sizes, train_scores, test_scores = learning_curve(\n",
    "    classifier_chosen, X_train_normalized, y_train, cv=5, n_jobs=-1, train_sizes=np.linspace(0.1, 1.0, 10), scoring='accuracy')\n",
    "\n",
    "train_mean = np.mean(train_scores, axis=1)\n",
    "train_std = np.std(train_scores, axis=1)\n",
    "test_mean = np.mean(test_scores, axis=1)\n",
    "test_std = np.std(test_scores, axis=1)\n",
    "\n",
    "plt.plot(train_sizes, train_mean, label='Training score')\n",
    "plt.plot(train_sizes, test_mean, label='Validation score')\n",
    "plt.fill_between(train_sizes, train_mean - train_std, train_mean + train_std, alpha=0.1)\n",
    "plt.fill_between(train_sizes, test_mean - test_std, test_mean + test_std, alpha=0.1)\n",
    "plt.xlabel('Training Set Size')\n",
    "plt.ylabel('Accuracy')\n",
    "plt.title('Learning curve SVC classifier of train set')\n",
    "plt.legend()\n",
    "plt.show()"
   ]
  },
  {
   "attachments": {},
   "cell_type": "markdown",
   "metadata": {},
   "source": [
    "## Evaluation of method with testset"
   ]
  },
  {
   "cell_type": "code",
   "execution_count": null,
   "metadata": {},
   "outputs": [],
   "source": [
    "cv_inner = KFold(n_splits=5, shuffle=True, random_state=42)        \n",
    "cv_outer = KFold(n_splits=5, shuffle=True, random_state=42)\n",
    "\n",
    "\n",
    "n_outliers={}\n",
    "k=1.5\n",
    "history = []\n",
    "pointer = 1\n",
    "\n",
    "Y_drop = np.ravel(Y_drop) #om Y_drop dezelfde type te krijgen als X_drop. anders doet de forloop het niet. \n",
    "\n",
    "for train_index, test_index in cv_outer.split(X_drop, Y_drop):\n",
    "    x_train, x_test = X_drop.iloc[train_index], X_drop.iloc[test_index]\n",
    "    y_train, y_test = Y_drop[train_index], Y_drop[test_index]\n",
    "    print('\\nNestedCV: {} of outer fold {}'.format(pointer, cv_outer.get_n_splits()))\n",
    "    #Outliers\n",
    "    X_train_out = x_train[:]\n",
    "    X_test_out = x_test[:]\n",
    "    for feature in X_train_out.columns:\n",
    "        q25, q75 = percentile(X_train_out[feature], 25), percentile(X_train_out[feature], 75)\n",
    "        iqr = q75 - q25\n",
    "        cut_off = iqr * k\n",
    "        lower, upper = q25 - cut_off, q75 + cut_off\n",
    "        outliers = [x for x in X_train_out[feature] if x < lower or x > upper]\n",
    "        n_outliers[feature] = len(outliers)\n",
    "\n",
    "        if any(X_train_out[feature] < lower):\n",
    "            X_train_out.loc[X_train_out[feature] < lower, feature] = lower\n",
    "        if any(X_train_out[feature] > upper):\n",
    "            X_train_out.loc[X_train_out[feature] > upper, feature] = upper    \n",
    "\n",
    "        if any(X_test_out[feature] < lower):\n",
    "            X_test_out.loc[X_test_out[feature] < lower, feature] = lower\n",
    "        if any(X_test_out[feature] > upper):\n",
    "            X_test_out.loc[X_test_out[feature] > upper, feature] = upper\n",
    "\n",
    "    #Schalen\n",
    "    scaler = RobustScaler().fit(X_train_out) #Dit schaalt de data\n",
    "    X_train_normalized = scaler.transform(X_train_out)\n",
    "    X_train_normalized = pd.DataFrame(X_train_normalized, columns=x_train.columns, index=x_train.index) #de normalized functie zorgt voor een numpy array, dus moet weer even teruggezet worden in een dataframe. \n",
    "\n",
    "    X_test_normalized = scaler.transform(X_test_out)\n",
    "    X_test_normalized = pd.DataFrame(X_test_normalized, columns=x_test.columns)\n",
    "\n",
    "    #\n",
    "    classifier_chosen.fit(X_train_normalized, y_train)\n",
    "    pred_train = classifier_chosen.predict_proba(X_train_normalized)[:, 1]\n",
    "    pred_test = classifier_chosen.predict_proba(X_test_normalized)[:, 1]\n",
    "    auc_score_train = roc_auc_score(y_train, pred_train)\n",
    "    auc_score_test = roc_auc_score(y_test, pred_test)\n",
    "    print(\"\"\"\n",
    "    Best accuracy         : {:.2f}\n",
    "\n",
    "    Training\n",
    "        AUC: {:.3f}\n",
    "    Test\n",
    "        AUC: {:.3f}\n",
    "         \"\"\".format(\n",
    "        classifier_chosen.best_score_,\n",
    "        auc_score_train,\n",
    "        auc_score_test,\n",
    "        )\n",
    "    )\n",
    "    history.append(auc_score_test)\n",
    "    pointer += 1\n",
    "\n",
    "print('Overall test performance: {:.2f}'.format(np.mean(history)))"
   ]
  }
 ],
 "metadata": {
  "colab": {
   "collapsed_sections": [],
   "name": "assignment.ipynb",
   "provenance": []
  },
  "kernelspec": {
   "display_name": "Python 3",
   "language": "python",
   "name": "python3"
  },
  "language_info": {
   "codemirror_mode": {
    "name": "ipython",
    "version": 3
   },
   "file_extension": ".py",
   "mimetype": "text/x-python",
   "name": "python",
   "nbconvert_exporter": "python",
   "pygments_lexer": "ipython3",
   "version": "3.10.9"
  }
 },
 "nbformat": 4,
 "nbformat_minor": 1
}
